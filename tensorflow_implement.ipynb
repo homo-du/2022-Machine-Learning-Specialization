{
  "nbformat": 4,
  "nbformat_minor": 0,
  "metadata": {
    "colab": {
      "provenance": [],
      "authorship_tag": "ABX9TyMEe6alUUp0l25TU0Xe/Gvq",
      "include_colab_link": true
    },
    "kernelspec": {
      "name": "python3",
      "display_name": "Python 3"
    },
    "language_info": {
      "name": "python"
    }
  },
  "cells": [
    {
      "cell_type": "markdown",
      "metadata": {
        "id": "view-in-github",
        "colab_type": "text"
      },
      "source": [
        "<a href=\"https://colab.research.google.com/github/homo-du/2022-Machine-Learning-Specialization/blob/lab-code/tensorflow_implement.ipynb\" target=\"_parent\"><img src=\"https://colab.research.google.com/assets/colab-badge.svg\" alt=\"Open In Colab\"/></a>"
      ]
    },
    {
      "cell_type": "code",
      "execution_count": 26,
      "metadata": {
        "id": "YNLHqrT0sNVf"
      },
      "outputs": [],
      "source": [
        "import tensorflow as tf\n",
        "import numpy as np"
      ]
    },
    {
      "cell_type": "code",
      "source": [
        "X = np.array([[0,0,0], [1,1,1], [1,0,0], [1,1,0], [0,0,1]])\n",
        "y = np.array([[0],[1],[0],[1],[0]])\n",
        "print(X)\n",
        "print(y)\n",
        "print ('The shape of X is: ' + str(X.shape))\n",
        "print ('The shape of y is: ' + str(y.shape))"
      ],
      "metadata": {
        "colab": {
          "base_uri": "https://localhost:8080/"
        },
        "id": "oHhQ1TaSsbHw",
        "outputId": "dfc47276-0cc8-4e96-e62a-cf4ee97a9f0a"
      },
      "execution_count": 30,
      "outputs": [
        {
          "output_type": "stream",
          "name": "stdout",
          "text": [
            "[[0 0 0]\n",
            " [1 1 1]\n",
            " [1 0 0]\n",
            " [1 1 0]\n",
            " [0 0 1]]\n",
            "[[0]\n",
            " [1]\n",
            " [0]\n",
            " [1]\n",
            " [0]]\n",
            "The shape of X is: (5, 3)\n",
            "The shape of y is: (5, 1)\n"
          ]
        }
      ]
    },
    {
      "cell_type": "code",
      "source": [
        "# 不经过softmax时输出的是概率，from_logits=True使softmax与损失函数合并计算，提升数值稳定\n",
        "model = tf.keras.Sequential(\n",
        "    [\n",
        "        tf.keras.layers.Input(shape=(3,), name='input'),\n",
        "        tf.keras.layers.Dense(20, activation='relu', name='L1'),\n",
        "        tf.keras.layers.Dense(10, activation='relu', name='L2'),\n",
        "        tf.keras.layers.Dense(5, activation='relu', name='L3'),\n",
        "        tf.keras.layers.Dense(1, activation='sigmoid', name='L4'),\n",
        "    ], name=\"my_model\"\n",
        ")\n",
        "# 注意当前情况下输出层应该是1个unit\n",
        "\n",
        "model.summary()\n",
        "\n",
        "model.compile(loss=tf.keras.losses.BinaryCrossentropy(from_logits=True),\n",
        "              optimizer='adam',)\n",
        "\n",
        "model.fit(X, y, epochs=5)\n",
        "\n",
        "x_test = np.array([[1,0,1]])\n",
        "predictions = model.predict(x_test)\n",
        "predictions"
      ],
      "metadata": {
        "colab": {
          "base_uri": "https://localhost:8080/"
        },
        "id": "dbitEXiB2Oiy",
        "outputId": "023a62ec-34ef-4b06-cf01-b285fcdeeaf3"
      },
      "execution_count": 52,
      "outputs": [
        {
          "output_type": "stream",
          "name": "stdout",
          "text": [
            "Model: \"my_model\"\n",
            "_________________________________________________________________\n",
            " Layer (type)                Output Shape              Param #   \n",
            "=================================================================\n",
            " L1 (Dense)                  (None, 20)                80        \n",
            "                                                                 \n",
            " L2 (Dense)                  (None, 10)                210       \n",
            "                                                                 \n",
            " L3 (Dense)                  (None, 5)                 55        \n",
            "                                                                 \n",
            " L4 (Dense)                  (None, 1)                 6         \n",
            "                                                                 \n",
            "=================================================================\n",
            "Total params: 351 (1.37 KB)\n",
            "Trainable params: 351 (1.37 KB)\n",
            "Non-trainable params: 0 (0.00 Byte)\n",
            "_________________________________________________________________\n",
            "Epoch 1/5\n",
            "1/1 [==============================] - 1s 864ms/step - loss: 0.6675\n",
            "Epoch 2/5\n",
            "1/1 [==============================] - 0s 9ms/step - loss: 0.6638\n",
            "Epoch 3/5\n",
            "1/1 [==============================] - 0s 9ms/step - loss: 0.6601\n",
            "Epoch 4/5\n",
            "1/1 [==============================] - 0s 13ms/step - loss: 0.6565\n",
            "Epoch 5/5\n",
            "1/1 [==============================] - 0s 10ms/step - loss: 0.6528\n",
            "1/1 [==============================] - 0s 72ms/step\n"
          ]
        },
        {
          "output_type": "execute_result",
          "data": {
            "text/plain": [
              "array([[0.47925377]], dtype=float32)"
            ]
          },
          "metadata": {},
          "execution_count": 52
        }
      ]
    },
    {
      "cell_type": "code",
      "source": [
        "# softmax直接输出预测值\n",
        "model = tf.keras.Sequential(\n",
        "    [\n",
        "        tf.keras.layers.Input(shape=(3,), name='input'),\n",
        "        tf.keras.layers.Dense(20, activation='relu', name='L1'),\n",
        "        tf.keras.layers.Dense(10, activation='relu', name='L2'),\n",
        "        tf.keras.layers.Dense(5, activation='relu', name='L3'),\n",
        "        tf.keras.layers.Dense(2, activation='softmax', name='L4'),\n",
        "    ], name=\"my_model\"\n",
        ")\n",
        "\n",
        "model.compile(loss=tf.keras.losses.BinaryCrossentropy(),\n",
        "              optimizer='adam',)\n",
        "y = np.array([[1,0],[0,1],[1,0],[0,1],[1,0]])\n",
        "\n",
        "model.fit(X, y, epochs=5)\n",
        "\n",
        "x_test = np.array([[0,0,1]])\n",
        "predictions = model.predict(x_test)\n",
        "predictions"
      ],
      "metadata": {
        "colab": {
          "base_uri": "https://localhost:8080/"
        },
        "id": "c8x9TWIT51C_",
        "outputId": "2c65af15-a192-4caa-e6e4-328fca1e8b59"
      },
      "execution_count": 56,
      "outputs": [
        {
          "output_type": "stream",
          "name": "stdout",
          "text": [
            "Epoch 1/5\n",
            "1/1 [==============================] - 1s 876ms/step - loss: 0.6893\n",
            "Epoch 2/5\n",
            "1/1 [==============================] - 0s 14ms/step - loss: 0.6887\n",
            "Epoch 3/5\n",
            "1/1 [==============================] - 0s 10ms/step - loss: 0.6881\n",
            "Epoch 4/5\n",
            "1/1 [==============================] - 0s 9ms/step - loss: 0.6875\n",
            "Epoch 5/5\n",
            "1/1 [==============================] - 0s 14ms/step - loss: 0.6869\n",
            "1/1 [==============================] - 0s 68ms/step\n"
          ]
        },
        {
          "output_type": "execute_result",
          "data": {
            "text/plain": [
              "array([[0.48280373, 0.5171963 ]], dtype=float32)"
            ]
          },
          "metadata": {},
          "execution_count": 56
        }
      ]
    }
  ]
}